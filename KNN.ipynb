{
  "nbformat": 4,
  "nbformat_minor": 0,
  "metadata": {
    "colab": {
      "name": "KNN.ipynb",
      "provenance": [],
      "authorship_tag": "ABX9TyMe1yzxPBURf9l1ZJdv3bQD",
      "include_colab_link": true
    },
    "kernelspec": {
      "name": "python3",
      "display_name": "Python 3"
    },
    "language_info": {
      "name": "python"
    }
  },
  "cells": [
    {
      "cell_type": "markdown",
      "metadata": {
        "id": "view-in-github",
        "colab_type": "text"
      },
      "source": [
        "<a href=\"https://colab.research.google.com/github/sharan-pai-bmsce/ML-C3/blob/main/KNN.ipynb\" target=\"_parent\"><img src=\"https://colab.research.google.com/assets/colab-badge.svg\" alt=\"Open In Colab\"/></a>"
      ]
    },
    {
      "cell_type": "code",
      "execution_count": 2,
      "metadata": {
        "colab": {
          "base_uri": "https://localhost:8080/"
        },
        "id": "k7tXyfQSE-53",
        "outputId": "b39b9356-4d48-4e3a-e672-aacef699562c"
      },
      "outputs": [
        {
          "output_type": "stream",
          "name": "stdout",
          "text": [
            "Confusion Matrix\n",
            "[[14  0  0]\n",
            " [ 0 12  2]\n",
            " [ 0  0 17]]\n",
            "Accuracy Metrics\n",
            "              precision    recall  f1-score   support\n",
            "\n",
            "           0       1.00      1.00      1.00        14\n",
            "           1       1.00      0.86      0.92        14\n",
            "           2       0.89      1.00      0.94        17\n",
            "\n",
            "    accuracy                           0.96        45\n",
            "   macro avg       0.96      0.95      0.96        45\n",
            "weighted avg       0.96      0.96      0.96        45\n",
            "\n"
          ]
        }
      ],
      "source": [
        "from sklearn.model_selection import train_test_split\n",
        "from sklearn.neighbors import KNeighborsClassifier\n",
        "from sklearn.metrics import classification_report, confusion_matrix\n",
        "from sklearn import datasets\n",
        "\n",
        "iris=datasets.load_iris()\n",
        "\n",
        "x = iris.data\n",
        "y = iris.target\n",
        "\n",
        "# print ('sepal-length', 'sepal-width', 'petal-length', 'petal-width')\n",
        "# print(x)\n",
        "# print('class: 0-Iris-Setosa, 1- Iris-Versicolour, 2- Iris-Virginica')\n",
        "# print(y)\n",
        "\n",
        "x_train, x_test, y_train, y_test = train_test_split(x,y,test_size=0.3)\n",
        "\n",
        "#To Training the model and Nearest nighbors K=5\n",
        "classifier = KNeighborsClassifier(n_neighbors=5)\n",
        "classifier.fit(x_train, y_train)\n",
        "\n",
        "#To make predictions on our test data\n",
        "y_pred=classifier.predict(x_test)\n",
        "\n",
        "print('Confusion Matrix')\n",
        "print(confusion_matrix(y_test,y_pred))\n",
        "print('Accuracy Metrics')\n",
        "print(classification_report(y_test,y_pred))"
      ]
    }
  ]
}
{
  "nbformat": 4,
  "nbformat_minor": 0,
  "metadata": {
    "colab": {
      "name": "CompareKMeanandEM.ipynb",
      "provenance": [],
      "authorship_tag": "ABX9TyPMsjP1lskkDY14XBzuccvD",
      "include_colab_link": true
    },
    "kernelspec": {
      "name": "python3",
      "display_name": "Python 3"
    },
    "language_info": {
      "name": "python"
    }
  },
  "cells": [
    {
      "cell_type": "markdown",
      "metadata": {
        "id": "view-in-github",
        "colab_type": "text"
      },
      "source": [
        "<a href=\"https://colab.research.google.com/github/sharan-pai-bmsce/ML-C3/blob/main/CompareKMeanandEM.ipynb\" target=\"_parent\"><img src=\"https://colab.research.google.com/assets/colab-badge.svg\" alt=\"Open In Colab\"/></a>"
      ]
    },
    {
      "cell_type": "code",
      "execution_count": null,
      "metadata": {
        "colab": {
          "base_uri": "https://localhost:8080/"
        },
        "id": "YmfxsCsS6or6",
        "outputId": "82f5a8e8-eea1-4a65-a9e8-14ecdb8174a8"
      },
      "outputs": [
        {
          "output_type": "stream",
          "name": "stdout",
          "text": [
            "The accuracy score of K-Mean:  0.8933333333333333\n",
            "The Confusion matrixof K-Mean:  [[50  0  0]\n",
            " [ 0 48  2]\n",
            " [ 0 14 36]]\n",
            "The accuracy score of EM:  0.0\n",
            "The Confusion matrix of EM:  [[ 0 50  0]\n",
            " [ 5  0 45]\n",
            " [50  0  0]]\n"
          ]
        }
      ],
      "source": [
        "import matplotlib.pyplot as plt\n",
        "from sklearn import datasets\n",
        "from sklearn.cluster import KMeans\n",
        "import sklearn.metrics as sm\n",
        "import pandas as pd\n",
        "import numpy as np\n",
        "\n",
        "iris = datasets.load_iris()\n",
        "\n",
        "X = pd.DataFrame(iris.data)\n",
        "X.columns = ['Sepal_Length','Sepal_Width','Petal_Length','Petal_Width']\n",
        "\n",
        "y = pd.DataFrame(iris.target)\n",
        "y.columns = ['Targets']\n",
        "\n",
        "model = KMeans(n_clusters=3)\n",
        "model.fit(X)\n",
        "\n",
        "\n",
        "# plt.figure(figsize=(14,7))\n",
        "\n",
        "# colormap = np.array(['red', 'lime', 'black'])\n",
        "\n",
        "# # Plot the Original Classifications\n",
        "# plt.subplot(1, 2, 1)\n",
        "# plt.scatter(X.Petal_Length, X.Petal_Width, c=colormap[y.Targets], s=40)\n",
        "# plt.title('Real Classification')\n",
        "# plt.xlabel('Petal Length')\n",
        "# plt.ylabel('Petal Width')\n",
        "\n",
        "\n",
        "# Plot the Models Classifications\n",
        "# plt.subplot(1, 2, 2)\n",
        "# plt.scatter(X.Petal_Length, X.Petal_Width, c=colormap[model.labels_], s=40)\n",
        "# plt.title('K Mean Classification')\n",
        "# plt.xlabel('Petal Length')\n",
        "# plt.ylabel('Petal Width')\n",
        "print('The accuracy score of K-Mean: ',sm.accuracy_score(y, model.labels_))\n",
        "print('The Confusion matrixof K-Mean: ',sm.confusion_matrix(y, model.labels_))\n",
        "\n",
        "\n",
        "from sklearn import preprocessing\n",
        "scaler = preprocessing.StandardScaler()\n",
        "scaler.fit(X)\n",
        "xsa = scaler.transform(X)\n",
        "xs = pd.DataFrame(xsa, columns = X.columns)\n",
        "#xs.sample(5)\n",
        "\n",
        "from sklearn.mixture import GaussianMixture\n",
        "gmm = GaussianMixture(n_components=3)\n",
        "gmm.fit(xs)\n",
        "\n",
        "y_gmm = gmm.predict(xs)\n",
        "#y_cluster_gmm\n",
        "\n",
        "# plt.subplot(2, 2, 3)\n",
        "# plt.scatter(X.Petal_Length, X.Petal_Width, c=colormap[y_gmm], s=40)\n",
        "# plt.title('GMM Classification')\n",
        "# plt.xlabel('Petal Length')\n",
        "# plt.ylabel('Petal Width')\n",
        "\n",
        "print('The accuracy score of EM: ',sm.accuracy_score(y, y_gmm))\n",
        "print('The Confusion matrix of EM: ',sm.confusion_matrix(y, y_gmm))"
      ]
    }
  ]
}